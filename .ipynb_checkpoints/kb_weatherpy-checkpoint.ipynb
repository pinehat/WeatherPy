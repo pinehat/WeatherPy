{
 "cells": [
  {
   "cell_type": "markdown",
   "metadata": {},
   "source": [
    "# WeatherPy"
   ]
  },
  {
   "cell_type": "code",
   "execution_count": 43,
   "metadata": {
    "scrolled": true
   },
   "outputs": [],
   "source": [
    "# Dependencies and Setup\n",
    "import openweathermapy.core as owm\n",
    "import matplotlib.pyplot as plt\n",
    "import pandas as pd\n",
    "import numpy as np\n",
    "import requests\n",
    "import time\n",
    "\n",
    "# Import API key\n",
    "from api_keys import api_key\n",
    "\n",
    "# Incorporated citipy to determine city based on latitude and longitude\n",
    "from citipy import citipy\n",
    "\n",
    "# Output File (CSV)\n",
    "output_data_file = \"output_data/cities.csv\"\n",
    "\n",
    "# Range of latitudes and longitudes\n",
    "lat_range = (-90, 90)\n",
    "lng_range = (-180, 180)"
   ]
  },
  {
   "cell_type": "code",
   "execution_count": 44,
   "metadata": {},
   "outputs": [],
   "source": [
    "#for x in range(180):\n",
    "#    modu = x % 60\n",
    "#    print(f\"x= {x}, modu = {modu}\")\n",
    "#    if modu == 0: time.sleep(10)\n",
    "\n",
    "#sleep_list = np.arange(59,648,59)\n",
    "#print(sleep_list)\n",
    "#if 531 in sleep_list: print(\"goo in\")\n"
   ]
  },
  {
   "cell_type": "markdown",
   "metadata": {},
   "source": [
    "## Generate Cities List"
   ]
  },
  {
   "cell_type": "code",
   "execution_count": 45,
   "metadata": {},
   "outputs": [
    {
     "name": "stdout",
     "output_type": "stream",
     "text": [
      "We will attempt to collect OpenWeather data for 615 cities.\n"
     ]
    }
   ],
   "source": [
    "# List for holding lat_lngs and cities\n",
    "lat_lngs = []\n",
    "cities = []\n",
    "\n",
    "# Create a set of random lat and lng combinations\n",
    "lats = np.random.uniform(low=-90.000, high=90.000, size=1500)\n",
    "lngs = np.random.uniform(low=-180.000, high=180.000, size=1500)\n",
    "lat_lngs = zip(lats, lngs)\n",
    "\n",
    "# Identify nearest city for each lat, lng combination\n",
    "for lat_lng in lat_lngs:\n",
    "    city = citipy.nearest_city(lat_lng[0], lat_lng[1]).city_name\n",
    "    \n",
    "    # If the city is unique, then add it to a our cities list\n",
    "    if city not in cities:\n",
    "        cities.append(city)\n",
    "\n",
    "# Print the city count to confirm sufficient count\n",
    "num_cities = len(cities)\n",
    "if num_cities < 500:\n",
    "    print(f\"Only {num_cities} were generated. The program will end and you may try again.\")\n",
    "    exit()\n",
    "\n",
    "print(f\"We will attempt to collect OpenWeather data for {num_cities} cities.\")"
   ]
  },
  {
   "cell_type": "code",
   "execution_count": 46,
   "metadata": {},
   "outputs": [],
   "source": [
    "# Build initial dataframe and query arguments\n",
    "city_weather = pd.DataFrame(cities, columns=[\"City\"])\n",
    "city_weather[\"Max Temperature\"] = \"\"\n",
    "city_weather[\"Humidity\"] = \"\"\n",
    "city_weather[\"Cloudiness\"] = \"\"\n",
    "city_weather[\"Wind Speed\"] = \"\"\n",
    "city_weather[\"Latitude\"] = \"\"\n",
    "city_weather[\"Country\"] = \"\"\n",
    "\n",
    "# Variables to build url and specify imperial units rather than default metric\n",
    "url = \"http://api.openweathermap.org/data/2.5/weather?\"\n",
    "units = \"imperial\"\n",
    "#test_url = f\"{url}appid={api_key}&units={units}&q=\"\n",
    "\n",
    "# Key word arguments to pass in units setting and API key\n",
    "settings = { \"units\": units, \"appid\": api_key}\n",
    "\n",
    "# list to pass in desired weather metrics\n",
    "weather_stats = [\"id\",\"main.temp_max\",\"main.humidity\",\"clouds.all\",\"wind.speed\",\"coord.lat\",\"sys.country\"]\n",
    "\n",
    "openweather_hits = 0\n",
    "\n",
    "#print(f\"Settings = {settings}\")\n",
    "#print(f\"weather = {weather_stats}\")"
   ]
  },
  {
   "cell_type": "code",
   "execution_count": 47,
   "metadata": {
    "scrolled": true
   },
   "outputs": [
    {
     "name": "stdout",
     "output_type": "stream",
     "text": [
      "Processing Record '0' for city: 'san felipe'. City number:'3872255'\n",
      "Processing Record '1' for city: 'busselton'. City number:'2075265'\n",
      "The city domoni was not found on OpenWeather.\n",
      "Processing Record '3' for city: 'ushuaia'. City number:'3833367'\n",
      "Processing Record '4' for city: 'cidreira'. City number:'3466165'\n",
      "Processing Record '5' for city: 'vao'. City number:'588365'\n",
      "Processing Record '6' for city: 'kapaa'. City number:'5848280'\n",
      "Processing Record '7' for city: 'marsa matruh'. City number:'352733'\n",
      "Processing Record '8' for city: 'touros'. City number:'3386213'\n",
      "Processing Record '9' for city: 'mataura'. City number:'6201424'\n",
      "Processing Record '10' for city: 'tahoua'. City number:'2439376'\n",
      "Processing Record '11' for city: 'punta arenas'. City number:'3874787'\n",
      "Processing Record '12' for city: 'nanortalik'. City number:'3421765'\n",
      "The city halalo was not found on OpenWeather.\n",
      "Processing Record '14' for city: 'nikolskoye'. City number:'546105'\n",
      "Processing Record '15' for city: 'lagoa'. City number:'2267254'\n",
      "Processing Record '16' for city: 'atuona'. City number:'4020109'\n",
      "Processing Record '17' for city: 'rajnagar'. City number:'1185166'\n",
      "Processing Record '18' for city: 'hobart'. City number:'2163355'\n",
      "Processing Record '19' for city: 'finschhafen'. City number:'2097418'\n",
      "Processing Record '20' for city: 'hilo'. City number:'5855927'\n",
      "Processing Record '21' for city: 'port alfred'. City number:'964432'\n",
      "Processing Record '22' for city: 'codrington'. City number:'2160063'\n",
      "Processing Record '23' for city: 'vaini'. City number:'1273574'\n",
      "Processing Record '24' for city: 'lorengau'. City number:'2092164'\n",
      "Processing Record '25' for city: 'petrozavodsk'. City number:'509820'\n",
      "Processing Record '26' for city: 'new norfolk'. City number:'2155415'\n",
      "Processing Record '27' for city: 'khatanga'. City number:'2022572'\n",
      "Processing Record '28' for city: 'ponta do sol'. City number:'3453439'\n",
      "Processing Record '29' for city: 'caramay'. City number:'1718517'\n",
      "Processing Record '30' for city: 'arlit'. City number:'2447513'\n",
      "The city tambopata was not found on OpenWeather.\n",
      "Processing Record '32' for city: 'port hardy'. City number:'6111862'\n",
      "The city samusu was not found on OpenWeather.\n",
      "Processing Record '34' for city: 'bethel'. City number:'5880568'\n",
      "Processing Record '35' for city: 'srednekolymsk'. City number:'2121025'\n",
      "Processing Record '36' for city: 'hermanus'. City number:'3366880'\n",
      "The city aflu was not found on OpenWeather.\n",
      "Processing Record '38' for city: 'samarai'. City number:'2132606'\n",
      "Processing Record '39' for city: 'krasnyy chikoy'. City number:'2012349'\n",
      "Processing Record '40' for city: 'carutapera'. City number:'3402648'\n",
      "The city kazalinsk was not found on OpenWeather.\n",
      "Processing Record '42' for city: 'flinders'. City number:'6255012'\n",
      "Processing Record '43' for city: 'kavaratti'. City number:'1267390'\n",
      "Processing Record '44' for city: 'vila velha'. City number:'6320062'\n",
      "Processing Record '45' for city: 'mar del plata'. City number:'3863379'\n",
      "Processing Record '46' for city: 'yellowknife'. City number:'6185377'\n",
      "Processing Record '47' for city: 'kaitangata'. City number:'2208248'\n",
      "Processing Record '48' for city: 'bagdarin'. City number:'2027244'\n",
      "The city barentsburg was not found on OpenWeather.\n",
      "Processing Record '50' for city: 'hasaki'. City number:'2112802'\n",
      "Processing Record '51' for city: 'arraial do cabo'. City number:'3471451'\n",
      "Processing Record '52' for city: 'saint-philippe'. City number:'6138908'\n",
      "Processing Record '53' for city: 'georgetown'. City number:'3378644'\n",
      "Processing Record '54' for city: 'jamestown'. City number:'2069194'\n",
      "The city attawapiskat was not found on OpenWeather.\n",
      "Processing Record '56' for city: 'ribeira grande'. City number:'3372707'\n",
      "Processing Record '57' for city: 'oktyabrskiy'. City number:'515873'\n",
      "Processing Record '58' for city: 'constitucion'. City number:'4011743'\n",
      "-----------------------------------------\n",
      "Data Retrieval Complete\n",
      "-----------------------------------------\n",
      "                 City Max Temperature Humidity Cloudiness Wind Speed Latitude  \\\n",
      "0          san felipe              46       98          0       0.67   -32.75   \n",
      "1           busselton           62.01       53        100       6.53   -33.64   \n",
      "2              domoni                                                           \n",
      "3             ushuaia            37.4       93         90       6.93   -54.81   \n",
      "4            cidreira           48.46       81          0       4.99   -30.17   \n",
      "5                 vao           56.28       76         67       9.53     59.1   \n",
      "6               kapaa            84.2       70          1       9.17    22.08   \n",
      "7        marsa matruh              77       83         40       3.36    31.35   \n",
      "8              touros            71.6       94         20       3.36     -5.2   \n",
      "9             mataura              55       75        100       1.01   -46.19   \n",
      "10             tahoua           90.76       37         17      11.83    14.89   \n",
      "11       punta arenas            35.6       80          0       9.17   -53.16   \n",
      "12         nanortalik           38.06       97        100       2.62    60.14   \n",
      "13             halalo                                                           \n",
      "14         nikolskoye              61       77         20       8.95     59.7   \n",
      "15              lagoa              68       64          0       2.24    37.14   \n",
      "16             atuona           80.83       75          0      15.37     -9.8   \n",
      "17           rajnagar           80.92       88        100      11.45    24.52   \n",
      "18             hobart            53.6       54         40       20.8   -42.88   \n",
      "19        finschhafen           68.28       97         84       3.69     -6.6   \n",
      "20               hilo            80.6       69         75      14.99    19.71   \n",
      "21        port alfred           53.01       72          0          4   -33.59   \n",
      "22         codrington           69.01       77         44       2.01   -28.95   \n",
      "23              vaini            71.6       94         75       5.82    15.34   \n",
      "24           lorengau           82.75       77          1       6.91    -2.02   \n",
      "25       petrozavodsk            60.8       87          8       8.95    61.79   \n",
      "26        new norfolk              54       54         75       20.8   -42.78   \n",
      "27           khatanga           56.85       36         33       4.99    71.98   \n",
      "28       ponta do sol           61.03       64          0        2.8   -20.63   \n",
      "29            caramay           83.44       73        100      11.34    10.18   \n",
      "..                ...             ...      ...        ...        ...      ...   \n",
      "585            moroni                                                           \n",
      "586         manjacaze                                                           \n",
      "587         bathsheba                                                           \n",
      "588           phalodi                                                           \n",
      "589         la ciotat                                                           \n",
      "590             kieta                                                           \n",
      "591           bhatkal                                                           \n",
      "592            giyani                                                           \n",
      "593          hamirpur                                                           \n",
      "594         tazovskiy                                                           \n",
      "595           xuchang                                                           \n",
      "596           college                                                           \n",
      "597  puerto escondido                                                           \n",
      "598             yanam                                                           \n",
      "599            obidos                                                           \n",
      "600            gwadar                                                           \n",
      "601      saint-pierre                                                           \n",
      "602        port blair                                                           \n",
      "603          chiredzi                                                           \n",
      "604       serebryansk                                                           \n",
      "605     batagay-alyta                                                           \n",
      "606         namatanai                                                           \n",
      "607            beyneu                                                           \n",
      "608             tambo                                                           \n",
      "609            betafo                                                           \n",
      "610       nanga eboko                                                           \n",
      "611           zorleni                                                           \n",
      "612       honningsvag                                                           \n",
      "613         manokwari                                                           \n",
      "614        san miguel                                                           \n",
      "\n",
      "    Country  \n",
      "0        CL  \n",
      "1        AU  \n",
      "2            \n",
      "3        AR  \n",
      "4        BR  \n",
      "5        EE  \n",
      "6        US  \n",
      "7        EG  \n",
      "8        BR  \n",
      "9        NZ  \n",
      "10       NE  \n",
      "11       CL  \n",
      "12       GL  \n",
      "13           \n",
      "14       RU  \n",
      "15       PT  \n",
      "16       PF  \n",
      "17       BD  \n",
      "18       AU  \n",
      "19       PG  \n",
      "20       US  \n",
      "21       ZA  \n",
      "22       AU  \n",
      "23       IN  \n",
      "24       PG  \n",
      "25       RU  \n",
      "26       AU  \n",
      "27       RU  \n",
      "28       BR  \n",
      "29       PH  \n",
      "..      ...  \n",
      "585          \n",
      "586          \n",
      "587          \n",
      "588          \n",
      "589          \n",
      "590          \n",
      "591          \n",
      "592          \n",
      "593          \n",
      "594          \n",
      "595          \n",
      "596          \n",
      "597          \n",
      "598          \n",
      "599          \n",
      "600          \n",
      "601          \n",
      "602          \n",
      "603          \n",
      "604          \n",
      "605          \n",
      "606          \n",
      "607          \n",
      "608          \n",
      "609          \n",
      "610          \n",
      "611          \n",
      "612          \n",
      "613          \n",
      "614          \n",
      "\n",
      "[615 rows x 7 columns]\n"
     ]
    }
   ],
   "source": [
    "# Set up list of records at which to sleep (because of OpenWeather hit limits)\n",
    "sleep_list = np.arange(60,num_cities,60)\n",
    "\n",
    "# Make API calls\n",
    "for index, row in city_weather.iterrows():\n",
    "    if index < 59:\n",
    "        if index in sleep_list:\n",
    "            print(\"Sleeping for 61 seconds...\")\n",
    "            time.sleep(61)\n",
    "        city = row[\"City\"]\n",
    "\n",
    "        try:\n",
    "            response = owm.get_current(city,**settings)\n",
    "            city_data = response(*weather_stats)\n",
    "            #print(f'city_data is :{city_data}')   \n",
    "            print(f\"Processing Record '{index}' for city: '{city}'. City number:'{city_data[0]}'\") \n",
    "\n",
    "            city_weather.loc[index,\"Max Temperature\"] = (city_data[1])\n",
    "            city_weather.loc[index,\"Humidity\"] = city_data[2]\n",
    "            city_weather.loc[index,\"Cloudiness\"] = city_data[3]\n",
    "            city_weather.loc[index,\"Wind Speed\"] = (city_data[4])\n",
    "            city_weather.loc[index,\"Latitude\"] = (city_data[5])\n",
    "            city_weather.loc[index,\"Country\"] = (city_data[6])\n",
    "            \n",
    "        except Exception:\n",
    "            print(f\"The city {city} was not found on OpenWeather.\")\n",
    "            #city_weather.iloc[0:0]\n",
    "\n",
    "print(\"-----------------------------------------\")\n",
    "print(\"Data Retrieval Complete\")\n",
    "print(\"-----------------------------------------\")\n",
    "\n",
    "print(city_weather)\n",
    "#city_weather.round({\"B\":0})\n",
    "#print(city_weather)\n",
    "\n"
   ]
  },
  {
   "cell_type": "markdown",
   "metadata": {},
   "source": [
    "### Convert Raw Data to DataFrame\n",
    "* Export the city data into a .csv.\n",
    "* Display the DataFrame"
   ]
  },
  {
   "cell_type": "code",
   "execution_count": 48,
   "metadata": {},
   "outputs": [
    {
     "data": {
      "text/html": [
       "<div>\n",
       "<style scoped>\n",
       "    .dataframe tbody tr th:only-of-type {\n",
       "        vertical-align: middle;\n",
       "    }\n",
       "\n",
       "    .dataframe tbody tr th {\n",
       "        vertical-align: top;\n",
       "    }\n",
       "\n",
       "    .dataframe thead th {\n",
       "        text-align: right;\n",
       "    }\n",
       "</style>\n",
       "<table border=\"1\" class=\"dataframe\">\n",
       "  <thead>\n",
       "    <tr style=\"text-align: right;\">\n",
       "      <th></th>\n",
       "      <th>City</th>\n",
       "      <th>Max Temperature</th>\n",
       "      <th>Humidity</th>\n",
       "      <th>Cloudiness</th>\n",
       "      <th>Wind Speed</th>\n",
       "      <th>Latitude</th>\n",
       "      <th>Country</th>\n",
       "    </tr>\n",
       "  </thead>\n",
       "  <tbody>\n",
       "    <tr>\n",
       "      <th>0</th>\n",
       "      <td>san felipe</td>\n",
       "      <td>46</td>\n",
       "      <td>98</td>\n",
       "      <td>0</td>\n",
       "      <td>0.67</td>\n",
       "      <td>-32.75</td>\n",
       "      <td>CL</td>\n",
       "    </tr>\n",
       "    <tr>\n",
       "      <th>1</th>\n",
       "      <td>busselton</td>\n",
       "      <td>62.01</td>\n",
       "      <td>53</td>\n",
       "      <td>100</td>\n",
       "      <td>6.53</td>\n",
       "      <td>-33.64</td>\n",
       "      <td>AU</td>\n",
       "    </tr>\n",
       "    <tr>\n",
       "      <th>3</th>\n",
       "      <td>ushuaia</td>\n",
       "      <td>37.4</td>\n",
       "      <td>93</td>\n",
       "      <td>90</td>\n",
       "      <td>6.93</td>\n",
       "      <td>-54.81</td>\n",
       "      <td>AR</td>\n",
       "    </tr>\n",
       "    <tr>\n",
       "      <th>4</th>\n",
       "      <td>cidreira</td>\n",
       "      <td>48.46</td>\n",
       "      <td>81</td>\n",
       "      <td>0</td>\n",
       "      <td>4.99</td>\n",
       "      <td>-30.17</td>\n",
       "      <td>BR</td>\n",
       "    </tr>\n",
       "    <tr>\n",
       "      <th>5</th>\n",
       "      <td>vao</td>\n",
       "      <td>56.28</td>\n",
       "      <td>76</td>\n",
       "      <td>67</td>\n",
       "      <td>9.53</td>\n",
       "      <td>59.1</td>\n",
       "      <td>EE</td>\n",
       "    </tr>\n",
       "  </tbody>\n",
       "</table>\n",
       "</div>"
      ],
      "text/plain": [
       "         City Max Temperature Humidity Cloudiness Wind Speed Latitude Country\n",
       "0  san felipe              46       98          0       0.67   -32.75      CL\n",
       "1   busselton           62.01       53        100       6.53   -33.64      AU\n",
       "3     ushuaia            37.4       93         90       6.93   -54.81      AR\n",
       "4    cidreira           48.46       81          0       4.99   -30.17      BR\n",
       "5         vao           56.28       76         67       9.53     59.1      EE"
      ]
     },
     "execution_count": 48,
     "metadata": {},
     "output_type": "execute_result"
    }
   ],
   "source": [
    "weather_data_df = city_weather[city_weather[\"Country\"] != \"\"]\n",
    "weather_data_df.to_csv(output_data_file)\n",
    "\n",
    "weather_data_df.head()"
   ]
  },
  {
   "cell_type": "markdown",
   "metadata": {},
   "source": [
    "### Plotting the Data\n",
    "* Use proper labeling of the plots using plot titles (including date of analysis) and axes labels.\n",
    "* Save the plotted figures as .pngs."
   ]
  },
  {
   "cell_type": "markdown",
   "metadata": {},
   "source": [
    "#### Latitude vs. Temperature Plot"
   ]
  },
  {
   "cell_type": "code",
   "execution_count": 49,
   "metadata": {},
   "outputs": [
    {
     "data": {
      "image/png": "[encoded data removed]",
      "text/plain": [
       "<Figure size 432x288 with 1 Axes>"
      ]
     },
     "metadata": {
      "needs_background": "light"
     },
     "output_type": "display_data"
    }
   ],
   "source": [
    "plt.scatter(weather_data_df[\"Latitude\"], weather_data_df[\"Max Temperature\"], marker=\"o\")\n",
    "\n",
    "plt.title(\"City Latitude vs. Max Temperature (07/02/2019)\")\n",
    "plt.ylabel(\"Max Temperature (F)\")\n",
    "plt.xlabel(\"Latitude\")\n",
    "plt.grid(True)\n",
    "\n",
    "plt.savefig(\"latitude_by_maxtemp.png\")\n",
    "\n",
    "plt.show()"
   ]
  },
  {
   "cell_type": "markdown",
   "metadata": {},
   "source": [
    "#### Latitude vs. Humidity Plot"
   ]
  },
  {
   "cell_type": "code",
   "execution_count": 50,
   "metadata": {},
   "outputs": [
    {
     "data": {
      "image/png": "[encoded data removed]",
      "text/plain": [
       "<Figure size 432x288 with 1 Axes>"
      ]
     },
     "metadata": {
      "needs_background": "light"
     },
     "output_type": "display_data"
    }
   ],
   "source": [
    "plt.scatter(weather_data_df[\"Latitude\"], weather_data_df[\"Humidity\"], marker=\"o\")\n",
    "\n",
    "plt.title(\"City Latitude vs. Humidity (07/02/2019)\")\n",
    "plt.ylabel(\"Humidity (%)\")\n",
    "plt.xlabel(\"Latitude\")\n",
    "plt.grid(True)\n",
    "\n",
    "plt.savefig(\"latitude_by_humidity.png\")\n",
    "\n",
    "plt.show()"
   ]
  },
  {
   "cell_type": "markdown",
   "metadata": {},
   "source": [
    "#### Latitude vs. Cloudiness Plot"
   ]
  },
  {
   "cell_type": "code",
   "execution_count": 52,
   "metadata": {},
   "outputs": [
    {
     "data": {
      "image/png": "[encoded data removed]",
      "text/plain": [
       "<Figure size 432x288 with 1 Axes>"
      ]
     },
     "metadata": {
      "needs_background": "light"
     },
     "output_type": "display_data"
    }
   ],
   "source": [
    "plt.scatter(weather_data_df[\"Latitude\"], weather_data_df[\"Cloudiness\"], marker=\"o\")\n",
    "\n",
    "# Incorporate the other graph properties\n",
    "plt.title(\"City Latitude vs. Cloudiness (07/02/2019)\")\n",
    "plt.ylabel(\"Cloudiness (%)\")\n",
    "plt.xlabel(\"Latitude\")\n",
    "plt.grid(True)\n",
    "\n",
    "# Save the figure\n",
    "plt.savefig(\"latitude_by_cloudiness.png\")\n",
    "\n",
    "# Show plot\n",
    "plt.show()"
   ]
  },
  {
   "cell_type": "markdown",
   "metadata": {},
   "source": [
    "#### Latitude vs. Wind Speed Plot"
   ]
  },
  {
   "cell_type": "code",
   "execution_count": 54,
   "metadata": {},
   "outputs": [
    {
     "data": {
      "image/png": "[encoded data removed]",
      "text/plain": [
       "<Figure size 432x288 with 1 Axes>"
      ]
     },
     "metadata": {
      "needs_background": "light"
     },
     "output_type": "display_data"
    }
   ],
   "source": [
    "plt.scatter(weather_data_df[\"Latitude\"], weather_data_df[\"Wind Speed\"], marker=\"o\")\n",
    "\n",
    "# Incorporate the other graph properties\n",
    "plt.title(\"City Latitude vs. Wind Speed (07/02/2019)\")\n",
    "plt.ylabel(\"Wind Speed (mph)\")\n",
    "plt.xlabel(\"Latitude\")\n",
    "plt.grid(True)\n",
    "\n",
    "# Save the figure\n",
    "plt.savefig(\"latitude_by_windspeed.png\")\n",
    "\n",
    "# Show plot\n",
    "plt.show()\n"
   ]
  },
  {
   "cell_type": "code",
   "execution_count": null,
   "metadata": {},
   "outputs": [],
   "source": []
  }
 ],
 "metadata": {
  "anaconda-cloud": {},
  "kernel_info": {
   "name": "python3"
  },
  "kernelspec": {
   "display_name": "Python 3",
   "language": "python",
   "name": "python3"
  },
  "language_info": {
   "codemirror_mode": {
    "name": "ipython",
    "version": 3
   },
   "file_extension": ".py",
   "mimetype": "text/x-python",
   "name": "python",
   "nbconvert_exporter": "python",
   "pygments_lexer": "ipython3",
   "version": "3.6.8"
  },
  "nteract": {
   "version": "0.12.3"
  }
 },
 "nbformat": 4,
 "nbformat_minor": 2
}
